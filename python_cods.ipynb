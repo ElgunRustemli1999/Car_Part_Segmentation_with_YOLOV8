{
 "cells": [
  {
   "cell_type": "code",
   "execution_count": 2,
   "metadata": {},
   "outputs": [
    {
     "name": "stdout",
     "output_type": "stream",
     "text": [
      "Ultralytics YOLOv8.2.30 🚀 Python-3.10.6 torch-2.0.1+cu117 CUDA:0 (NVIDIA GeForce RTX 3050 Laptop GPU, 4096MiB)\n",
      "YOLOv8n-seg summary (fused): 195 layers, 3404320 parameters, 0 gradients, 12.6 GFLOPs\n",
      "\n",
      "Downloading https://ultralytics.com/images/bus.jpg to 'bus.jpg'...\n",
      "image 1/1 c:\\Users\\Gold\\Desktop\\yolov8_gpu\\3_img_segmentation\\bus.jpg: 640x480 4 persons, 1 bus, 1 skateboard, 95.3ms\n",
      "Speed: 3.3ms preprocess, 95.3ms inference, 47.8ms postprocess per image at shape (1, 3, 640, 480)\n",
      "Results saved to \u001b[1mruns\\segment\\predict\u001b[0m\n",
      "💡 Learn more at https://docs.ultralytics.com/modes/predict\n"
     ]
    },
    {
     "name": "stderr",
     "output_type": "stream",
     "text": [
      "\n",
      "  0%|          | 0.00/476k [00:00<?, ?B/s]\n",
      " 18%|█▊        | 88.0k/476k [00:00<00:00, 481kB/s]\n",
      " 52%|█████▏    | 248k/476k [00:00<00:00, 751kB/s] \n",
      " 69%|██████▉   | 328k/476k [00:00<00:00, 637kB/s]\n",
      " 92%|█████████▏| 440k/476k [00:00<00:00, 702kB/s]\n",
      "100%|██████████| 476k/476k [00:00<00:00, 630kB/s]\n"
     ]
    }
   ],
   "source": [
    "#test// predictions\n",
    "!yolo segment predict model=yolov8n-seg.pt source='https://ultralytics.com/images/bus.jpg'"
   ]
  },
  {
   "cell_type": "markdown",
   "metadata": {},
   "source": [
    "Python code"
   ]
  },
  {
   "cell_type": "code",
   "execution_count": 2,
   "metadata": {},
   "outputs": [],
   "source": [
    "import cv2\n",
    "import numpy as np\n",
    "from ultralytics import YOLO"
   ]
  },
  {
   "cell_type": "code",
   "execution_count": 12,
   "metadata": {},
   "outputs": [],
   "source": [
    "\n",
    "import numpy as np\n",
    "\n",
    "def extract_data(img, model):\n",
    "    h, w, ch= img.shape\n",
    "    results = model.predict(source=img.copy(), save=False, save_txt=False)\n",
    "    result = results[0]\n",
    "    \n",
    "    class_ids = []\n",
    "    seg_contour_idx = []\n",
    "\n",
    "    for seg in result.masks.xyn:\n",
    "         \n",
    "        seg[:, 0] = seg[:, 0] * w\n",
    "        seg[:, 1] = seg[:, 1] * h\n",
    "        segment = np.array(seg, dtype=np.int32)\n",
    "        seg_contour_idx.append(segment)\n",
    "\n",
    "    # Access class names from the result\n",
    "    class_names = result.names\n",
    "    \n",
    "    # Collect class IDs, bounding boxes, and scores\n",
    "    class_ids = result.boxes.cls.cpu().numpy().astype(int)\n",
    "    bboxes = np.array(result.boxes.xyxy.cpu(), dtype='int')\n",
    "    scores = np.array(result.boxes.conf.cpu(), dtype='float').round(2)\n",
    "\n",
    "    return bboxes, class_ids, seg_contour_idx, scores, class_names\n",
    "\n",
    "\n"
   ]
  },
  {
   "cell_type": "code",
   "execution_count": 17,
   "metadata": {},
   "outputs": [
    {
     "name": "stdout",
     "output_type": "stream",
     "text": [
      "\n",
      "0: 384x640 1 back_door, 1 front_door, 1 front_glass, 2 front_lights, 1 hood, 44.0ms\n",
      "Speed: 6.0ms preprocess, 44.0ms inference, 7.3ms postprocess per image at shape (1, 3, 384, 640)\n",
      "(188, 35, 229)\n",
      "6\n",
      "(138, 147, 241)\n",
      "5\n",
      "(203, 10, 85)\n",
      "7\n",
      "(113, 211, 201)\n",
      "8\n",
      "(36, 53, 217)\n",
      "1\n",
      "(13, 150, 168)\n",
      "7\n"
     ]
    }
   ],
   "source": [
    "#python code\n",
    "\n",
    "#testin with python code\n",
    "\n",
    "import cv2\n",
    "import numpy as np\n",
    "from ultralytics import YOLO\n",
    "\n",
    "import random\n",
    "\n",
    "img_path = r'C:\\Users\\Gold\\Desktop\\yolov8_gpu\\3_img_segmentation\\inferance\\bmw.jpg'\n",
    "model_path=r'C:\\Users\\Gold\\Desktop\\yolov8_gpu\\3_img_segmentation\\runs\\segment\\yolov8_car_part_segmentation\\weights\\best.pt'\n",
    "\n",
    "img = cv2.imread(img_path)\n",
    "model = YOLO(model_path)\n",
    "font = cv2.FONT_HERSHEY_SIMPLEX\n",
    "\n",
    "bboxes,class_ids,seg_contour_idx,scores,class_names =extract_data(img,model)\n",
    "\n",
    "\n",
    "def generate_random_color():\n",
    "    r = random.randint(0, 255)  # Red component\n",
    "    g = random.randint(0, 255)  # Green component\n",
    "    b = random.randint(0, 255)  # Blue component\n",
    "    return (r, g, b)\n",
    "\n",
    "\n",
    "for box,class_id,segmentation_id,score in zip(bboxes,class_ids,seg_contour_idx,scores):\n",
    "    x_min,y_min,x_max,y_max = box\n",
    "    #cv2.rectangle(img,(x_min,y_min),(x_max,y_max),(0,255,0),2)\n",
    "    cv2.polylines(img,[segmentation_id],True,color=(255,0,0),thickness=3)\n",
    "    \n",
    "\n",
    "    class_name = class_names[class_id]\n",
    "    score = score*100\n",
    "    print(generate_random_color())\n",
    "    print(class_id)\n",
    "    text = f'{class_name} :  %{score:.2f}'\n",
    "    if class_id == 1:\n",
    "        cv2.putText(img,str(text),(x_min,y_min-10),font,0.2,generate_random_color(),1)\n",
    "        cv2.fillPoly(img,[segmentation_id],color=generate_random_color())\n",
    "    elif class_id == 2:\n",
    "        cv2.putText(img,str(text),(x_min,y_min-10),font,0.2,generate_random_color(),1)\n",
    "        cv2.fillPoly(img,[segmentation_id],color=generate_random_color())\n",
    "    elif class_id == 3:\n",
    "        cv2.putText(img,str(text),(x_min,y_min-10),font,0.2,generate_random_color(),1)\n",
    "        cv2.fillPoly(img,[segmentation_id],color=generate_random_color())\n",
    "    elif class_id == 4:\n",
    "        cv2.putText(img,str(text),(x_min,y_min-10),font,0.2,generate_random_color(),1)\n",
    "        cv2.fillPoly(img,[segmentation_id],color=generate_random_color())\n",
    "    elif class_id == 5:\n",
    "        cv2.putText(img,str(text),(x_min,y_min-10),font,0.2,generate_random_color(),1)\n",
    "        cv2.fillPoly(img,[segmentation_id],color=generate_random_color())\n",
    "    elif class_id == 6:\n",
    "        cv2.putText(img,str(text),(x_min,y_min-10),font,0.2,generate_random_color(),1)\n",
    "        cv2.fillPoly(img,[segmentation_id],color=generate_random_color())\n",
    "    elif class_id == 7:\n",
    "        cv2.putText(img,str(text),(x_min,y_min-10),font,0.2,generate_random_color(),1)\n",
    "    elif class_id == 8:\n",
    "        cv2.putText(img,str(text),(x_min,y_min-10),font,0.2,generate_random_color(),1)\n",
    "        cv2.fillPoly(img,[segmentation_id],color=generate_random_color())\n",
    "    else:\n",
    "        cv2.putText(img,str(text),(x_min,y_min-10),font,0.2,generate_random_color(),1)\n",
    "        cv2.fillPoly(img,[segmentation_id],color=generate_random_color())\n",
    "\n",
    "    \n",
    "\n",
    "    \n",
    "cv2.imshow('img',img)\n",
    "cv2.waitKey(0)\n",
    "cv2.destroyAllWindows()\n",
    "\n",
    "\n",
    "\n"
   ]
  },
  {
   "cell_type": "code",
   "execution_count": null,
   "metadata": {},
   "outputs": [],
   "source": []
  }
 ],
 "metadata": {
  "kernelspec": {
   "display_name": "yolov8-gpu",
   "language": "python",
   "name": "python3"
  },
  "language_info": {
   "codemirror_mode": {
    "name": "ipython",
    "version": 3
   },
   "file_extension": ".py",
   "mimetype": "text/x-python",
   "name": "python",
   "nbconvert_exporter": "python",
   "pygments_lexer": "ipython3",
   "version": "3.10.6"
  }
 },
 "nbformat": 4,
 "nbformat_minor": 2
}
